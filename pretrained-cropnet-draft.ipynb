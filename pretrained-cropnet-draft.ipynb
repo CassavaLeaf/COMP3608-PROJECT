{
 "cells": [
  {
   "cell_type": "code",
   "execution_count": 1,
   "id": "23e6bb10",
   "metadata": {
    "_cell_guid": "b1076dfc-b9ad-4769-8c92-a6c4dae69d19",
    "_uuid": "8f2839f25d086af736a60e9eeb907d3b93b6e0e5",
    "execution": {
     "iopub.execute_input": "2024-05-03T22:20:43.387439Z",
     "iopub.status.busy": "2024-05-03T22:20:43.387037Z",
     "iopub.status.idle": "2024-05-03T22:23:52.564200Z",
     "shell.execute_reply": "2024-05-03T22:23:52.562641Z"
    },
    "papermill": {
     "duration": 189.191865,
     "end_time": "2024-05-03T22:23:52.567234",
     "exception": false,
     "start_time": "2024-05-03T22:20:43.375369",
     "status": "completed"
    },
    "tags": []
   },
   "outputs": [
    {
     "name": "stdout",
     "output_type": "stream",
     "text": [
      "Requirement already satisfied: pip in /opt/conda/lib/python3.10/site-packages (23.3.2)\r\n",
      "Collecting pip\r\n",
      "  Downloading pip-24.0-py3-none-any.whl.metadata (3.6 kB)\r\n",
      "Downloading pip-24.0-py3-none-any.whl (2.1 MB)\r\n",
      "\u001b[2K   \u001b[90m━━━━━━━━━━━━━━━━━━━━━━━━━━━━━━━━━━━━━━━━\u001b[0m \u001b[32m2.1/2.1 MB\u001b[0m \u001b[31m23.1 MB/s\u001b[0m eta \u001b[36m0:00:00\u001b[0m\r\n",
      "\u001b[?25hInstalling collected packages: pip\r\n",
      "  Attempting uninstall: pip\r\n",
      "    Found existing installation: pip 23.3.2\r\n",
      "    Uninstalling pip-23.3.2:\r\n",
      "      Successfully uninstalled pip-23.3.2\r\n",
      "Successfully installed pip-24.0\r\n",
      "Requirement already satisfied: keras in /opt/conda/lib/python3.10/site-packages (3.1.1)\r\n",
      "Requirement already satisfied: absl-py in /opt/conda/lib/python3.10/site-packages (from keras) (1.4.0)\r\n",
      "Requirement already satisfied: numpy in /opt/conda/lib/python3.10/site-packages (from keras) (1.26.4)\r\n",
      "Requirement already satisfied: rich in /opt/conda/lib/python3.10/site-packages (from keras) (13.7.0)\r\n",
      "Requirement already satisfied: namex in /opt/conda/lib/python3.10/site-packages (from keras) (0.0.7)\r\n",
      "Requirement already satisfied: h5py in /opt/conda/lib/python3.10/site-packages (from keras) (3.10.0)\r\n",
      "Requirement already satisfied: optree in /opt/conda/lib/python3.10/site-packages (from keras) (0.11.0)\r\n",
      "Requirement already satisfied: ml-dtypes in /opt/conda/lib/python3.10/site-packages (from keras) (0.2.0)\r\n",
      "Requirement already satisfied: typing-extensions>=4.0.0 in /opt/conda/lib/python3.10/site-packages (from optree->keras) (4.9.0)\r\n",
      "Requirement already satisfied: markdown-it-py>=2.2.0 in /opt/conda/lib/python3.10/site-packages (from rich->keras) (3.0.0)\r\n",
      "Requirement already satisfied: pygments<3.0.0,>=2.13.0 in /opt/conda/lib/python3.10/site-packages (from rich->keras) (2.17.2)\r\n",
      "Requirement already satisfied: mdurl~=0.1 in /opt/conda/lib/python3.10/site-packages (from markdown-it-py>=2.2.0->rich->keras) (0.1.2)\r\n",
      "Collecting jupyter\r\n",
      "  Downloading jupyter-1.0.0-py2.py3-none-any.whl.metadata (995 bytes)\r\n",
      "Requirement already satisfied: ipywidgets in /opt/conda/lib/python3.10/site-packages (7.7.1)\r\n",
      "Collecting ipywidgets\r\n",
      "  Downloading ipywidgets-8.1.2-py3-none-any.whl.metadata (2.4 kB)\r\n",
      "Requirement already satisfied: notebook in /opt/conda/lib/python3.10/site-packages (from jupyter) (6.5.4)\r\n",
      "Requirement already satisfied: qtconsole in /opt/conda/lib/python3.10/site-packages (from jupyter) (5.5.1)\r\n",
      "Requirement already satisfied: jupyter-console in /opt/conda/lib/python3.10/site-packages (from jupyter) (6.6.3)\r\n",
      "Requirement already satisfied: nbconvert in /opt/conda/lib/python3.10/site-packages (from jupyter) (6.4.5)\r\n",
      "Requirement already satisfied: ipykernel in /opt/conda/lib/python3.10/site-packages (from jupyter) (6.28.0)\r\n",
      "Requirement already satisfied: comm>=0.1.3 in /opt/conda/lib/python3.10/site-packages (from ipywidgets) (0.2.1)\r\n",
      "Requirement already satisfied: ipython>=6.1.0 in /opt/conda/lib/python3.10/site-packages (from ipywidgets) (8.20.0)\r\n",
      "Requirement already satisfied: traitlets>=4.3.1 in /opt/conda/lib/python3.10/site-packages (from ipywidgets) (5.9.0)\r\n",
      "Collecting widgetsnbextension~=4.0.10 (from ipywidgets)\r\n",
      "  Downloading widgetsnbextension-4.0.10-py3-none-any.whl.metadata (1.6 kB)\r\n",
      "Collecting jupyterlab-widgets~=3.0.10 (from ipywidgets)\r\n",
      "  Downloading jupyterlab_widgets-3.0.10-py3-none-any.whl.metadata (4.1 kB)\r\n",
      "Requirement already satisfied: decorator in /opt/conda/lib/python3.10/site-packages (from ipython>=6.1.0->ipywidgets) (5.1.1)\r\n",
      "Requirement already satisfied: jedi>=0.16 in /opt/conda/lib/python3.10/site-packages (from ipython>=6.1.0->ipywidgets) (0.19.1)\r\n",
      "Requirement already satisfied: matplotlib-inline in /opt/conda/lib/python3.10/site-packages (from ipython>=6.1.0->ipywidgets) (0.1.6)\r\n",
      "Requirement already satisfied: prompt-toolkit<3.1.0,>=3.0.41 in /opt/conda/lib/python3.10/site-packages (from ipython>=6.1.0->ipywidgets) (3.0.42)\r\n",
      "Requirement already satisfied: pygments>=2.4.0 in /opt/conda/lib/python3.10/site-packages (from ipython>=6.1.0->ipywidgets) (2.17.2)\r\n",
      "Requirement already satisfied: stack-data in /opt/conda/lib/python3.10/site-packages (from ipython>=6.1.0->ipywidgets) (0.6.2)\r\n",
      "Requirement already satisfied: exceptiongroup in /opt/conda/lib/python3.10/site-packages (from ipython>=6.1.0->ipywidgets) (1.2.0)\r\n",
      "Requirement already satisfied: pexpect>4.3 in /opt/conda/lib/python3.10/site-packages (from ipython>=6.1.0->ipywidgets) (4.8.0)\r\n",
      "Requirement already satisfied: debugpy>=1.6.5 in /opt/conda/lib/python3.10/site-packages (from ipykernel->jupyter) (1.8.0)\r\n",
      "Requirement already satisfied: jupyter-client>=6.1.12 in /opt/conda/lib/python3.10/site-packages (from ipykernel->jupyter) (7.4.9)\r\n",
      "Requirement already satisfied: jupyter-core!=5.0.*,>=4.12 in /opt/conda/lib/python3.10/site-packages (from ipykernel->jupyter) (5.7.1)\r\n",
      "Requirement already satisfied: nest-asyncio in /opt/conda/lib/python3.10/site-packages (from ipykernel->jupyter) (1.5.8)\r\n",
      "Requirement already satisfied: packaging in /opt/conda/lib/python3.10/site-packages (from ipykernel->jupyter) (21.3)\r\n",
      "Requirement already satisfied: psutil in /opt/conda/lib/python3.10/site-packages (from ipykernel->jupyter) (5.9.3)\r\n",
      "Requirement already satisfied: pyzmq>=24 in /opt/conda/lib/python3.10/site-packages (from ipykernel->jupyter) (24.0.1)\r\n",
      "Requirement already satisfied: tornado>=6.1 in /opt/conda/lib/python3.10/site-packages (from ipykernel->jupyter) (6.3.3)\r\n",
      "Requirement already satisfied: mistune<2,>=0.8.1 in /opt/conda/lib/python3.10/site-packages (from nbconvert->jupyter) (0.8.4)\r\n",
      "Requirement already satisfied: jinja2>=2.4 in /opt/conda/lib/python3.10/site-packages (from nbconvert->jupyter) (3.1.2)\r\n",
      "Requirement already satisfied: jupyterlab-pygments in /opt/conda/lib/python3.10/site-packages (from nbconvert->jupyter) (0.3.0)\r\n",
      "Requirement already satisfied: nbformat>=4.4 in /opt/conda/lib/python3.10/site-packages (from nbconvert->jupyter) (5.9.2)\r\n",
      "Requirement already satisfied: entrypoints>=0.2.2 in /opt/conda/lib/python3.10/site-packages (from nbconvert->jupyter) (0.4)\r\n",
      "Requirement already satisfied: bleach in /opt/conda/lib/python3.10/site-packages (from nbconvert->jupyter) (6.1.0)\r\n",
      "Requirement already satisfied: pandocfilters>=1.4.1 in /opt/conda/lib/python3.10/site-packages (from nbconvert->jupyter) (1.5.0)\r\n",
      "Requirement already satisfied: testpath in /opt/conda/lib/python3.10/site-packages (from nbconvert->jupyter) (0.6.0)\r\n",
      "Requirement already satisfied: defusedxml in /opt/conda/lib/python3.10/site-packages (from nbconvert->jupyter) (0.7.1)\r\n",
      "Requirement already satisfied: beautifulsoup4 in /opt/conda/lib/python3.10/site-packages (from nbconvert->jupyter) (4.12.2)\r\n",
      "Requirement already satisfied: nbclient<0.6.0,>=0.5.0 in /opt/conda/lib/python3.10/site-packages (from nbconvert->jupyter) (0.5.13)\r\n",
      "Requirement already satisfied: MarkupSafe>=2.0 in /opt/conda/lib/python3.10/site-packages (from nbconvert->jupyter) (2.1.3)\r\n",
      "Requirement already satisfied: argon2-cffi in /opt/conda/lib/python3.10/site-packages (from notebook->jupyter) (23.1.0)\r\n",
      "Requirement already satisfied: ipython-genutils in /opt/conda/lib/python3.10/site-packages (from notebook->jupyter) (0.2.0)\r\n",
      "Requirement already satisfied: Send2Trash>=1.8.0 in /opt/conda/lib/python3.10/site-packages (from notebook->jupyter) (1.8.2)\r\n",
      "Requirement already satisfied: terminado>=0.8.3 in /opt/conda/lib/python3.10/site-packages (from notebook->jupyter) (0.18.0)\r\n",
      "Requirement already satisfied: prometheus-client in /opt/conda/lib/python3.10/site-packages (from notebook->jupyter) (0.19.0)\r\n",
      "Requirement already satisfied: nbclassic>=0.4.7 in /opt/conda/lib/python3.10/site-packages (from notebook->jupyter) (1.0.0)\r\n",
      "Requirement already satisfied: qtpy>=2.4.0 in /opt/conda/lib/python3.10/site-packages (from qtconsole->jupyter) (2.4.1)\r\n",
      "Requirement already satisfied: parso<0.9.0,>=0.8.3 in /opt/conda/lib/python3.10/site-packages (from jedi>=0.16->ipython>=6.1.0->ipywidgets) (0.8.3)\r\n",
      "Requirement already satisfied: python-dateutil>=2.8.2 in /opt/conda/lib/python3.10/site-packages (from jupyter-client>=6.1.12->ipykernel->jupyter) (2.9.0.post0)\r\n",
      "Requirement already satisfied: platformdirs>=2.5 in /opt/conda/lib/python3.10/site-packages (from jupyter-core!=5.0.*,>=4.12->ipykernel->jupyter) (4.2.0)\r\n",
      "Requirement already satisfied: jupyter-server>=1.8 in /opt/conda/lib/python3.10/site-packages (from nbclassic>=0.4.7->notebook->jupyter) (2.13.0)\r\n",
      "Requirement already satisfied: notebook-shim>=0.2.3 in /opt/conda/lib/python3.10/site-packages (from nbclassic>=0.4.7->notebook->jupyter) (0.2.3)\r\n",
      "Requirement already satisfied: fastjsonschema in /opt/conda/lib/python3.10/site-packages (from nbformat>=4.4->nbconvert->jupyter) (2.19.1)\r\n",
      "Requirement already satisfied: jsonschema>=2.6 in /opt/conda/lib/python3.10/site-packages (from nbformat>=4.4->nbconvert->jupyter) (4.20.0)\r\n",
      "Requirement already satisfied: ptyprocess>=0.5 in /opt/conda/lib/python3.10/site-packages (from pexpect>4.3->ipython>=6.1.0->ipywidgets) (0.7.0)\r\n",
      "Requirement already satisfied: wcwidth in /opt/conda/lib/python3.10/site-packages (from prompt-toolkit<3.1.0,>=3.0.41->ipython>=6.1.0->ipywidgets) (0.2.13)\r\n",
      "Requirement already satisfied: argon2-cffi-bindings in /opt/conda/lib/python3.10/site-packages (from argon2-cffi->notebook->jupyter) (21.2.0)\r\n",
      "Requirement already satisfied: soupsieve>1.2 in /opt/conda/lib/python3.10/site-packages (from beautifulsoup4->nbconvert->jupyter) (2.5)\r\n",
      "Requirement already satisfied: six>=1.9.0 in /opt/conda/lib/python3.10/site-packages (from bleach->nbconvert->jupyter) (1.16.0)\r\n",
      "Requirement already satisfied: webencodings in /opt/conda/lib/python3.10/site-packages (from bleach->nbconvert->jupyter) (0.5.1)\r\n",
      "Requirement already satisfied: pyparsing!=3.0.5,>=2.0.2 in /opt/conda/lib/python3.10/site-packages (from packaging->ipykernel->jupyter) (3.1.1)\r\n",
      "Requirement already satisfied: executing>=1.2.0 in /opt/conda/lib/python3.10/site-packages (from stack-data->ipython>=6.1.0->ipywidgets) (2.0.1)\r\n",
      "Requirement already satisfied: asttokens>=2.1.0 in /opt/conda/lib/python3.10/site-packages (from stack-data->ipython>=6.1.0->ipywidgets) (2.4.1)\r\n",
      "Requirement already satisfied: pure-eval in /opt/conda/lib/python3.10/site-packages (from stack-data->ipython>=6.1.0->ipywidgets) (0.2.2)\r\n",
      "Requirement already satisfied: attrs>=22.2.0 in /opt/conda/lib/python3.10/site-packages (from jsonschema>=2.6->nbformat>=4.4->nbconvert->jupyter) (23.2.0)\r\n",
      "Requirement already satisfied: jsonschema-specifications>=2023.03.6 in /opt/conda/lib/python3.10/site-packages (from jsonschema>=2.6->nbformat>=4.4->nbconvert->jupyter) (2023.12.1)\r\n",
      "Requirement already satisfied: referencing>=0.28.4 in /opt/conda/lib/python3.10/site-packages (from jsonschema>=2.6->nbformat>=4.4->nbconvert->jupyter) (0.32.1)\r\n",
      "Requirement already satisfied: rpds-py>=0.7.1 in /opt/conda/lib/python3.10/site-packages (from jsonschema>=2.6->nbformat>=4.4->nbconvert->jupyter) (0.16.2)\r\n",
      "Requirement already satisfied: anyio>=3.1.0 in /opt/conda/lib/python3.10/site-packages (from jupyter-server>=1.8->nbclassic>=0.4.7->notebook->jupyter) (4.2.0)\r\n",
      "Requirement already satisfied: jupyter-events>=0.9.0 in /opt/conda/lib/python3.10/site-packages (from jupyter-server>=1.8->nbclassic>=0.4.7->notebook->jupyter) (0.9.0)\r\n",
      "Requirement already satisfied: jupyter-server-terminals in /opt/conda/lib/python3.10/site-packages (from jupyter-server>=1.8->nbclassic>=0.4.7->notebook->jupyter) (0.5.1)\r\n",
      "Requirement already satisfied: overrides in /opt/conda/lib/python3.10/site-packages (from jupyter-server>=1.8->nbclassic>=0.4.7->notebook->jupyter) (7.4.0)\r\n",
      "Requirement already satisfied: websocket-client in /opt/conda/lib/python3.10/site-packages (from jupyter-server>=1.8->nbclassic>=0.4.7->notebook->jupyter) (1.7.0)\r\n",
      "Requirement already satisfied: cffi>=1.0.1 in /opt/conda/lib/python3.10/site-packages (from argon2-cffi-bindings->argon2-cffi->notebook->jupyter) (1.16.0)\r\n",
      "Requirement already satisfied: idna>=2.8 in /opt/conda/lib/python3.10/site-packages (from anyio>=3.1.0->jupyter-server>=1.8->nbclassic>=0.4.7->notebook->jupyter) (3.6)\r\n",
      "Requirement already satisfied: sniffio>=1.1 in /opt/conda/lib/python3.10/site-packages (from anyio>=3.1.0->jupyter-server>=1.8->nbclassic>=0.4.7->notebook->jupyter) (1.3.0)\r\n",
      "Requirement already satisfied: typing-extensions>=4.1 in /opt/conda/lib/python3.10/site-packages (from anyio>=3.1.0->jupyter-server>=1.8->nbclassic>=0.4.7->notebook->jupyter) (4.9.0)\r\n",
      "Requirement already satisfied: pycparser in /opt/conda/lib/python3.10/site-packages (from cffi>=1.0.1->argon2-cffi-bindings->argon2-cffi->notebook->jupyter) (2.21)\r\n",
      "Requirement already satisfied: python-json-logger>=2.0.4 in /opt/conda/lib/python3.10/site-packages (from jupyter-events>=0.9.0->jupyter-server>=1.8->nbclassic>=0.4.7->notebook->jupyter) (2.0.7)\r\n",
      "Requirement already satisfied: pyyaml>=5.3 in /opt/conda/lib/python3.10/site-packages (from jupyter-events>=0.9.0->jupyter-server>=1.8->nbclassic>=0.4.7->notebook->jupyter) (6.0.1)\r\n",
      "Requirement already satisfied: rfc3339-validator in /opt/conda/lib/python3.10/site-packages (from jupyter-events>=0.9.0->jupyter-server>=1.8->nbclassic>=0.4.7->notebook->jupyter) (0.1.4)\r\n",
      "Requirement already satisfied: rfc3986-validator>=0.1.1 in /opt/conda/lib/python3.10/site-packages (from jupyter-events>=0.9.0->jupyter-server>=1.8->nbclassic>=0.4.7->notebook->jupyter) (0.1.1)\r\n",
      "Requirement already satisfied: fqdn in /opt/conda/lib/python3.10/site-packages (from jsonschema[format-nongpl]>=4.18.0->jupyter-events>=0.9.0->jupyter-server>=1.8->nbclassic>=0.4.7->notebook->jupyter) (1.5.1)\r\n",
      "Requirement already satisfied: isoduration in /opt/conda/lib/python3.10/site-packages (from jsonschema[format-nongpl]>=4.18.0->jupyter-events>=0.9.0->jupyter-server>=1.8->nbclassic>=0.4.7->notebook->jupyter) (20.11.0)\r\n",
      "Requirement already satisfied: jsonpointer>1.13 in /opt/conda/lib/python3.10/site-packages (from jsonschema[format-nongpl]>=4.18.0->jupyter-events>=0.9.0->jupyter-server>=1.8->nbclassic>=0.4.7->notebook->jupyter) (2.4)\r\n",
      "Requirement already satisfied: uri-template in /opt/conda/lib/python3.10/site-packages (from jsonschema[format-nongpl]>=4.18.0->jupyter-events>=0.9.0->jupyter-server>=1.8->nbclassic>=0.4.7->notebook->jupyter) (1.3.0)\r\n",
      "Requirement already satisfied: webcolors>=1.11 in /opt/conda/lib/python3.10/site-packages (from jsonschema[format-nongpl]>=4.18.0->jupyter-events>=0.9.0->jupyter-server>=1.8->nbclassic>=0.4.7->notebook->jupyter) (1.13)\r\n",
      "Requirement already satisfied: arrow>=0.15.0 in /opt/conda/lib/python3.10/site-packages (from isoduration->jsonschema[format-nongpl]>=4.18.0->jupyter-events>=0.9.0->jupyter-server>=1.8->nbclassic>=0.4.7->notebook->jupyter) (1.3.0)\r\n",
      "Requirement already satisfied: types-python-dateutil>=2.8.10 in /opt/conda/lib/python3.10/site-packages (from arrow>=0.15.0->isoduration->jsonschema[format-nongpl]>=4.18.0->jupyter-events>=0.9.0->jupyter-server>=1.8->nbclassic>=0.4.7->notebook->jupyter) (2.8.19.20240106)\r\n",
      "Downloading jupyter-1.0.0-py2.py3-none-any.whl (2.7 kB)\r\n",
      "Downloading ipywidgets-8.1.2-py3-none-any.whl (139 kB)\r\n",
      "\u001b[2K   \u001b[90m━━━━━━━━━━━━━━━━━━━━━━━━━━━━━━━━━━━━━━━━\u001b[0m \u001b[32m139.4/139.4 kB\u001b[0m \u001b[31m2.9 MB/s\u001b[0m eta \u001b[36m0:00:00\u001b[0m\r\n",
      "\u001b[?25hDownloading jupyterlab_widgets-3.0.10-py3-none-any.whl (215 kB)\r\n",
      "\u001b[2K   \u001b[90m━━━━━━━━━━━━━━━━━━━━━━━━━━━━━━━━━━━━━━━━\u001b[0m \u001b[32m215.0/215.0 kB\u001b[0m \u001b[31m8.9 MB/s\u001b[0m eta \u001b[36m0:00:00\u001b[0m\r\n",
      "\u001b[?25hDownloading widgetsnbextension-4.0.10-py3-none-any.whl (2.3 MB)\r\n",
      "\u001b[2K   \u001b[90m━━━━━━━━━━━━━━━━━━━━━━━━━━━━━━━━━━━━━━━━\u001b[0m \u001b[32m2.3/2.3 MB\u001b[0m \u001b[31m38.2 MB/s\u001b[0m eta \u001b[36m0:00:00\u001b[0m\r\n",
      "\u001b[?25hInstalling collected packages: widgetsnbextension, jupyterlab-widgets, ipywidgets, jupyter\r\n",
      "  Attempting uninstall: widgetsnbextension\r\n",
      "    Found existing installation: widgetsnbextension 3.6.6\r\n",
      "    Uninstalling widgetsnbextension-3.6.6:\r\n",
      "      Successfully uninstalled widgetsnbextension-3.6.6\r\n",
      "  Attempting uninstall: jupyterlab-widgets\r\n",
      "    Found existing installation: jupyterlab-widgets 3.0.9\r\n",
      "    Uninstalling jupyterlab-widgets-3.0.9:\r\n",
      "      Successfully uninstalled jupyterlab-widgets-3.0.9\r\n",
      "  Attempting uninstall: ipywidgets\r\n",
      "    Found existing installation: ipywidgets 7.7.1\r\n",
      "    Uninstalling ipywidgets-7.7.1:\r\n",
      "      Successfully uninstalled ipywidgets-7.7.1\r\n",
      "Successfully installed ipywidgets-8.1.2 jupyter-1.0.0 jupyterlab-widgets-3.0.10 widgetsnbextension-4.0.10\r\n",
      "Requirement already satisfied: tensorflow in /opt/conda/lib/python3.10/site-packages (2.15.0)\r\n",
      "Collecting tensorflow\r\n",
      "  Downloading tensorflow-2.16.1-cp310-cp310-manylinux_2_17_x86_64.manylinux2014_x86_64.whl.metadata (4.3 kB)\r\n",
      "Requirement already satisfied: absl-py>=1.0.0 in /opt/conda/lib/python3.10/site-packages (from tensorflow) (1.4.0)\r\n",
      "Requirement already satisfied: astunparse>=1.6.0 in /opt/conda/lib/python3.10/site-packages (from tensorflow) (1.6.3)\r\n",
      "Requirement already satisfied: flatbuffers>=23.5.26 in /opt/conda/lib/python3.10/site-packages (from tensorflow) (23.5.26)\r\n",
      "Requirement already satisfied: gast!=0.5.0,!=0.5.1,!=0.5.2,>=0.2.1 in /opt/conda/lib/python3.10/site-packages (from tensorflow) (0.5.4)\r\n",
      "Requirement already satisfied: google-pasta>=0.1.1 in /opt/conda/lib/python3.10/site-packages (from tensorflow) (0.2.0)\r\n",
      "Requirement already satisfied: h5py>=3.10.0 in /opt/conda/lib/python3.10/site-packages (from tensorflow) (3.10.0)\r\n",
      "Requirement already satisfied: libclang>=13.0.0 in /opt/conda/lib/python3.10/site-packages (from tensorflow) (16.0.6)\r\n",
      "Collecting ml-dtypes~=0.3.1 (from tensorflow)\r\n",
      "  Downloading ml_dtypes-0.3.2-cp310-cp310-manylinux_2_17_x86_64.manylinux2014_x86_64.whl.metadata (20 kB)\r\n",
      "Requirement already satisfied: opt-einsum>=2.3.2 in /opt/conda/lib/python3.10/site-packages (from tensorflow) (3.3.0)\r\n",
      "Requirement already satisfied: packaging in /opt/conda/lib/python3.10/site-packages (from tensorflow) (21.3)\r\n",
      "Requirement already satisfied: protobuf!=4.21.0,!=4.21.1,!=4.21.2,!=4.21.3,!=4.21.4,!=4.21.5,<5.0.0dev,>=3.20.3 in /opt/conda/lib/python3.10/site-packages (from tensorflow) (3.20.3)\r\n",
      "Requirement already satisfied: requests<3,>=2.21.0 in /opt/conda/lib/python3.10/site-packages (from tensorflow) (2.31.0)\r\n",
      "Requirement already satisfied: setuptools in /opt/conda/lib/python3.10/site-packages (from tensorflow) (69.0.3)\r\n",
      "Requirement already satisfied: six>=1.12.0 in /opt/conda/lib/python3.10/site-packages (from tensorflow) (1.16.0)\r\n",
      "Requirement already satisfied: termcolor>=1.1.0 in /opt/conda/lib/python3.10/site-packages (from tensorflow) (2.4.0)\r\n",
      "Requirement already satisfied: typing-extensions>=3.6.6 in /opt/conda/lib/python3.10/site-packages (from tensorflow) (4.9.0)\r\n",
      "Requirement already satisfied: wrapt>=1.11.0 in /opt/conda/lib/python3.10/site-packages (from tensorflow) (1.14.1)\r\n",
      "Requirement already satisfied: grpcio<2.0,>=1.24.3 in /opt/conda/lib/python3.10/site-packages (from tensorflow) (1.51.1)\r\n",
      "Collecting tensorboard<2.17,>=2.16 (from tensorflow)\r\n",
      "  Downloading tensorboard-2.16.2-py3-none-any.whl.metadata (1.6 kB)\r\n",
      "Requirement already satisfied: keras>=3.0.0 in /opt/conda/lib/python3.10/site-packages (from tensorflow) (3.1.1)\r\n",
      "Requirement already satisfied: tensorflow-io-gcs-filesystem>=0.23.1 in /opt/conda/lib/python3.10/site-packages (from tensorflow) (0.35.0)\r\n",
      "Requirement already satisfied: numpy<2.0.0,>=1.23.5 in /opt/conda/lib/python3.10/site-packages (from tensorflow) (1.26.4)\r\n",
      "Requirement already satisfied: wheel<1.0,>=0.23.0 in /opt/conda/lib/python3.10/site-packages (from astunparse>=1.6.0->tensorflow) (0.42.0)\r\n",
      "Requirement already satisfied: rich in /opt/conda/lib/python3.10/site-packages (from keras>=3.0.0->tensorflow) (13.7.0)\r\n",
      "Requirement already satisfied: namex in /opt/conda/lib/python3.10/site-packages (from keras>=3.0.0->tensorflow) (0.0.7)\r\n",
      "Requirement already satisfied: optree in /opt/conda/lib/python3.10/site-packages (from keras>=3.0.0->tensorflow) (0.11.0)\r\n",
      "Requirement already satisfied: charset-normalizer<4,>=2 in /opt/conda/lib/python3.10/site-packages (from requests<3,>=2.21.0->tensorflow) (3.3.2)\r\n",
      "Requirement already satisfied: idna<4,>=2.5 in /opt/conda/lib/python3.10/site-packages (from requests<3,>=2.21.0->tensorflow) (3.6)\r\n",
      "Requirement already satisfied: urllib3<3,>=1.21.1 in /opt/conda/lib/python3.10/site-packages (from requests<3,>=2.21.0->tensorflow) (1.26.18)\r\n",
      "Requirement already satisfied: certifi>=2017.4.17 in /opt/conda/lib/python3.10/site-packages (from requests<3,>=2.21.0->tensorflow) (2024.2.2)\r\n",
      "Requirement already satisfied: markdown>=2.6.8 in /opt/conda/lib/python3.10/site-packages (from tensorboard<2.17,>=2.16->tensorflow) (3.5.2)\r\n",
      "Requirement already satisfied: tensorboard-data-server<0.8.0,>=0.7.0 in /opt/conda/lib/python3.10/site-packages (from tensorboard<2.17,>=2.16->tensorflow) (0.7.2)\r\n",
      "Requirement already satisfied: werkzeug>=1.0.1 in /opt/conda/lib/python3.10/site-packages (from tensorboard<2.17,>=2.16->tensorflow) (3.0.2)\r\n",
      "Requirement already satisfied: pyparsing!=3.0.5,>=2.0.2 in /opt/conda/lib/python3.10/site-packages (from packaging->tensorflow) (3.1.1)\r\n",
      "Requirement already satisfied: MarkupSafe>=2.1.1 in /opt/conda/lib/python3.10/site-packages (from werkzeug>=1.0.1->tensorboard<2.17,>=2.16->tensorflow) (2.1.3)\r\n",
      "Requirement already satisfied: markdown-it-py>=2.2.0 in /opt/conda/lib/python3.10/site-packages (from rich->keras>=3.0.0->tensorflow) (3.0.0)\r\n",
      "Requirement already satisfied: pygments<3.0.0,>=2.13.0 in /opt/conda/lib/python3.10/site-packages (from rich->keras>=3.0.0->tensorflow) (2.17.2)\r\n",
      "Requirement already satisfied: mdurl~=0.1 in /opt/conda/lib/python3.10/site-packages (from markdown-it-py>=2.2.0->rich->keras>=3.0.0->tensorflow) (0.1.2)\r\n",
      "Downloading tensorflow-2.16.1-cp310-cp310-manylinux_2_17_x86_64.manylinux2014_x86_64.whl (589.8 MB)\r\n",
      "\u001b[2K   \u001b[90m━━━━━━━━━━━━━━━━━━━━━━━━━━━━━━━━━━━━━━━━\u001b[0m \u001b[32m589.8/589.8 MB\u001b[0m \u001b[31m2.6 MB/s\u001b[0m eta \u001b[36m0:00:00\u001b[0m\r\n",
      "\u001b[?25hDownloading ml_dtypes-0.3.2-cp310-cp310-manylinux_2_17_x86_64.manylinux2014_x86_64.whl (2.2 MB)\r\n",
      "\u001b[2K   \u001b[90m━━━━━━━━━━━━━━━━━━━━━━━━━━━━━━━━━━━━━━━━\u001b[0m \u001b[32m2.2/2.2 MB\u001b[0m \u001b[31m10.3 MB/s\u001b[0m eta \u001b[36m0:00:00\u001b[0m\r\n",
      "\u001b[?25hDownloading tensorboard-2.16.2-py3-none-any.whl (5.5 MB)\r\n",
      "\u001b[2K   \u001b[90m━━━━━━━━━━━━━━━━━━━━━━━━━━━━━━━━━━━━━━━━\u001b[0m \u001b[32m5.5/5.5 MB\u001b[0m \u001b[31m73.8 MB/s\u001b[0m eta \u001b[36m0:00:00\u001b[0m\r\n",
      "\u001b[?25hInstalling collected packages: ml-dtypes, tensorboard, tensorflow\r\n",
      "  Attempting uninstall: ml-dtypes\r\n",
      "    Found existing installation: ml-dtypes 0.2.0\r\n",
      "    Uninstalling ml-dtypes-0.2.0:\r\n",
      "      Successfully uninstalled ml-dtypes-0.2.0\r\n",
      "  Attempting uninstall: tensorboard\r\n",
      "    Found existing installation: tensorboard 2.15.1\r\n",
      "    Uninstalling tensorboard-2.15.1:\r\n",
      "      Successfully uninstalled tensorboard-2.15.1\r\n",
      "  Attempting uninstall: tensorflow\r\n",
      "    Found existing installation: tensorflow 2.15.0\r\n",
      "    Uninstalling tensorflow-2.15.0:\r\n",
      "      Successfully uninstalled tensorflow-2.15.0\r\n",
      "\u001b[31mERROR: pip's dependency resolver does not currently take into account all the packages that are installed. This behaviour is the source of the following dependency conflicts.\r\n",
      "tensorflow-decision-forests 1.8.1 requires wurlitzer, which is not installed.\r\n",
      "tensorflow-decision-forests 1.8.1 requires tensorflow~=2.15.0, but you have tensorflow 2.16.1 which is incompatible.\r\n",
      "tensorflow-text 2.15.0 requires tensorflow<2.16,>=2.15.0; platform_machine != \"arm64\" or platform_system != \"Darwin\", but you have tensorflow 2.16.1 which is incompatible.\r\n",
      "tf-keras 2.15.1 requires tensorflow<2.16,>=2.15, but you have tensorflow 2.16.1 which is incompatible.\u001b[0m\u001b[31m\r\n",
      "\u001b[0mSuccessfully installed ml-dtypes-0.3.2 tensorboard-2.16.2 tensorflow-2.16.1\r\n",
      "Requirement already satisfied: tf-keras in /opt/conda/lib/python3.10/site-packages (2.15.1)\r\n",
      "Collecting tf-keras\r\n",
      "  Downloading tf_keras-2.16.0-py3-none-any.whl.metadata (1.6 kB)\r\n",
      "Requirement already satisfied: tensorflow-text in /opt/conda/lib/python3.10/site-packages (2.15.0)\r\n",
      "Collecting tensorflow-text\r\n",
      "  Downloading tensorflow_text-2.16.1-cp310-cp310-manylinux_2_17_x86_64.manylinux2014_x86_64.whl.metadata (2.0 kB)\r\n",
      "Requirement already satisfied: tensorflow<2.17,>=2.16 in /opt/conda/lib/python3.10/site-packages (from tf-keras) (2.16.1)\r\n",
      "Requirement already satisfied: absl-py>=1.0.0 in /opt/conda/lib/python3.10/site-packages (from tensorflow<2.17,>=2.16->tf-keras) (1.4.0)\r\n",
      "Requirement already satisfied: astunparse>=1.6.0 in /opt/conda/lib/python3.10/site-packages (from tensorflow<2.17,>=2.16->tf-keras) (1.6.3)\r\n",
      "Requirement already satisfied: flatbuffers>=23.5.26 in /opt/conda/lib/python3.10/site-packages (from tensorflow<2.17,>=2.16->tf-keras) (23.5.26)\r\n",
      "Requirement already satisfied: gast!=0.5.0,!=0.5.1,!=0.5.2,>=0.2.1 in /opt/conda/lib/python3.10/site-packages (from tensorflow<2.17,>=2.16->tf-keras) (0.5.4)\r\n",
      "Requirement already satisfied: google-pasta>=0.1.1 in /opt/conda/lib/python3.10/site-packages (from tensorflow<2.17,>=2.16->tf-keras) (0.2.0)\r\n",
      "Requirement already satisfied: h5py>=3.10.0 in /opt/conda/lib/python3.10/site-packages (from tensorflow<2.17,>=2.16->tf-keras) (3.10.0)\r\n",
      "Requirement already satisfied: libclang>=13.0.0 in /opt/conda/lib/python3.10/site-packages (from tensorflow<2.17,>=2.16->tf-keras) (16.0.6)\r\n",
      "Requirement already satisfied: ml-dtypes~=0.3.1 in /opt/conda/lib/python3.10/site-packages (from tensorflow<2.17,>=2.16->tf-keras) (0.3.2)\r\n",
      "Requirement already satisfied: opt-einsum>=2.3.2 in /opt/conda/lib/python3.10/site-packages (from tensorflow<2.17,>=2.16->tf-keras) (3.3.0)\r\n",
      "Requirement already satisfied: packaging in /opt/conda/lib/python3.10/site-packages (from tensorflow<2.17,>=2.16->tf-keras) (21.3)\r\n",
      "Requirement already satisfied: protobuf!=4.21.0,!=4.21.1,!=4.21.2,!=4.21.3,!=4.21.4,!=4.21.5,<5.0.0dev,>=3.20.3 in /opt/conda/lib/python3.10/site-packages (from tensorflow<2.17,>=2.16->tf-keras) (3.20.3)\r\n",
      "Requirement already satisfied: requests<3,>=2.21.0 in /opt/conda/lib/python3.10/site-packages (from tensorflow<2.17,>=2.16->tf-keras) (2.31.0)\r\n",
      "Requirement already satisfied: setuptools in /opt/conda/lib/python3.10/site-packages (from tensorflow<2.17,>=2.16->tf-keras) (69.0.3)\r\n",
      "Requirement already satisfied: six>=1.12.0 in /opt/conda/lib/python3.10/site-packages (from tensorflow<2.17,>=2.16->tf-keras) (1.16.0)\r\n",
      "Requirement already satisfied: termcolor>=1.1.0 in /opt/conda/lib/python3.10/site-packages (from tensorflow<2.17,>=2.16->tf-keras) (2.4.0)\r\n",
      "Requirement already satisfied: typing-extensions>=3.6.6 in /opt/conda/lib/python3.10/site-packages (from tensorflow<2.17,>=2.16->tf-keras) (4.9.0)\r\n",
      "Requirement already satisfied: wrapt>=1.11.0 in /opt/conda/lib/python3.10/site-packages (from tensorflow<2.17,>=2.16->tf-keras) (1.14.1)\r\n",
      "Requirement already satisfied: grpcio<2.0,>=1.24.3 in /opt/conda/lib/python3.10/site-packages (from tensorflow<2.17,>=2.16->tf-keras) (1.51.1)\r\n",
      "Requirement already satisfied: tensorboard<2.17,>=2.16 in /opt/conda/lib/python3.10/site-packages (from tensorflow<2.17,>=2.16->tf-keras) (2.16.2)\r\n",
      "Requirement already satisfied: keras>=3.0.0 in /opt/conda/lib/python3.10/site-packages (from tensorflow<2.17,>=2.16->tf-keras) (3.1.1)\r\n",
      "Requirement already satisfied: tensorflow-io-gcs-filesystem>=0.23.1 in /opt/conda/lib/python3.10/site-packages (from tensorflow<2.17,>=2.16->tf-keras) (0.35.0)\r\n",
      "Requirement already satisfied: numpy<2.0.0,>=1.23.5 in /opt/conda/lib/python3.10/site-packages (from tensorflow<2.17,>=2.16->tf-keras) (1.26.4)\r\n",
      "Requirement already satisfied: wheel<1.0,>=0.23.0 in /opt/conda/lib/python3.10/site-packages (from astunparse>=1.6.0->tensorflow<2.17,>=2.16->tf-keras) (0.42.0)\r\n",
      "Requirement already satisfied: rich in /opt/conda/lib/python3.10/site-packages (from keras>=3.0.0->tensorflow<2.17,>=2.16->tf-keras) (13.7.0)\r\n",
      "Requirement already satisfied: namex in /opt/conda/lib/python3.10/site-packages (from keras>=3.0.0->tensorflow<2.17,>=2.16->tf-keras) (0.0.7)\r\n",
      "Requirement already satisfied: optree in /opt/conda/lib/python3.10/site-packages (from keras>=3.0.0->tensorflow<2.17,>=2.16->tf-keras) (0.11.0)\r\n",
      "Requirement already satisfied: charset-normalizer<4,>=2 in /opt/conda/lib/python3.10/site-packages (from requests<3,>=2.21.0->tensorflow<2.17,>=2.16->tf-keras) (3.3.2)\r\n",
      "Requirement already satisfied: idna<4,>=2.5 in /opt/conda/lib/python3.10/site-packages (from requests<3,>=2.21.0->tensorflow<2.17,>=2.16->tf-keras) (3.6)\r\n",
      "Requirement already satisfied: urllib3<3,>=1.21.1 in /opt/conda/lib/python3.10/site-packages (from requests<3,>=2.21.0->tensorflow<2.17,>=2.16->tf-keras) (1.26.18)\r\n",
      "Requirement already satisfied: certifi>=2017.4.17 in /opt/conda/lib/python3.10/site-packages (from requests<3,>=2.21.0->tensorflow<2.17,>=2.16->tf-keras) (2024.2.2)\r\n",
      "Requirement already satisfied: markdown>=2.6.8 in /opt/conda/lib/python3.10/site-packages (from tensorboard<2.17,>=2.16->tensorflow<2.17,>=2.16->tf-keras) (3.5.2)\r\n",
      "Requirement already satisfied: tensorboard-data-server<0.8.0,>=0.7.0 in /opt/conda/lib/python3.10/site-packages (from tensorboard<2.17,>=2.16->tensorflow<2.17,>=2.16->tf-keras) (0.7.2)\r\n",
      "Requirement already satisfied: werkzeug>=1.0.1 in /opt/conda/lib/python3.10/site-packages (from tensorboard<2.17,>=2.16->tensorflow<2.17,>=2.16->tf-keras) (3.0.2)\r\n",
      "Requirement already satisfied: pyparsing!=3.0.5,>=2.0.2 in /opt/conda/lib/python3.10/site-packages (from packaging->tensorflow<2.17,>=2.16->tf-keras) (3.1.1)\r\n",
      "Requirement already satisfied: MarkupSafe>=2.1.1 in /opt/conda/lib/python3.10/site-packages (from werkzeug>=1.0.1->tensorboard<2.17,>=2.16->tensorflow<2.17,>=2.16->tf-keras) (2.1.3)\r\n",
      "Requirement already satisfied: markdown-it-py>=2.2.0 in /opt/conda/lib/python3.10/site-packages (from rich->keras>=3.0.0->tensorflow<2.17,>=2.16->tf-keras) (3.0.0)\r\n",
      "Requirement already satisfied: pygments<3.0.0,>=2.13.0 in /opt/conda/lib/python3.10/site-packages (from rich->keras>=3.0.0->tensorflow<2.17,>=2.16->tf-keras) (2.17.2)\r\n",
      "Requirement already satisfied: mdurl~=0.1 in /opt/conda/lib/python3.10/site-packages (from markdown-it-py>=2.2.0->rich->keras>=3.0.0->tensorflow<2.17,>=2.16->tf-keras) (0.1.2)\r\n",
      "Downloading tf_keras-2.16.0-py3-none-any.whl (1.7 MB)\r\n",
      "\u001b[2K   \u001b[90m━━━━━━━━━━━━━━━━━━━━━━━━━━━━━━━━━━━━━━━━\u001b[0m \u001b[32m1.7/1.7 MB\u001b[0m \u001b[31m19.2 MB/s\u001b[0m eta \u001b[36m0:00:00\u001b[0m\r\n",
      "\u001b[?25hDownloading tensorflow_text-2.16.1-cp310-cp310-manylinux_2_17_x86_64.manylinux2014_x86_64.whl (5.2 MB)\r\n",
      "\u001b[2K   \u001b[90m━━━━━━━━━━━━━━━━━━━━━━━━━━━━━━━━━━━━━━━━\u001b[0m \u001b[32m5.2/5.2 MB\u001b[0m \u001b[31m67.7 MB/s\u001b[0m eta \u001b[36m0:00:00\u001b[0m\r\n",
      "\u001b[?25hInstalling collected packages: tf-keras, tensorflow-text\r\n",
      "  Attempting uninstall: tf-keras\r\n",
      "    Found existing installation: tf_keras 2.15.1\r\n",
      "    Uninstalling tf_keras-2.15.1:\r\n",
      "      Successfully uninstalled tf_keras-2.15.1\r\n",
      "  Attempting uninstall: tensorflow-text\r\n",
      "    Found existing installation: tensorflow-text 2.15.0\r\n",
      "    Uninstalling tensorflow-text-2.15.0:\r\n",
      "      Successfully uninstalled tensorflow-text-2.15.0\r\n",
      "\u001b[31mERROR: pip's dependency resolver does not currently take into account all the packages that are installed. This behaviour is the source of the following dependency conflicts.\r\n",
      "keras-nlp 0.8.2 requires keras-core, which is not installed.\u001b[0m\u001b[31m\r\n",
      "\u001b[0mSuccessfully installed tensorflow-text-2.16.1 tf-keras-2.16.0\r\n",
      "Collecting keras-core\r\n",
      "  Downloading keras_core-0.1.7-py3-none-any.whl.metadata (4.3 kB)\r\n",
      "Requirement already satisfied: absl-py in /opt/conda/lib/python3.10/site-packages (from keras-core) (1.4.0)\r\n",
      "Requirement already satisfied: numpy in /opt/conda/lib/python3.10/site-packages (from keras-core) (1.26.4)\r\n",
      "Requirement already satisfied: rich in /opt/conda/lib/python3.10/site-packages (from keras-core) (13.7.0)\r\n",
      "Requirement already satisfied: namex in /opt/conda/lib/python3.10/site-packages (from keras-core) (0.0.7)\r\n",
      "Requirement already satisfied: h5py in /opt/conda/lib/python3.10/site-packages (from keras-core) (3.10.0)\r\n",
      "Requirement already satisfied: dm-tree in /opt/conda/lib/python3.10/site-packages (from keras-core) (0.1.8)\r\n",
      "Requirement already satisfied: markdown-it-py>=2.2.0 in /opt/conda/lib/python3.10/site-packages (from rich->keras-core) (3.0.0)\r\n",
      "Requirement already satisfied: pygments<3.0.0,>=2.13.0 in /opt/conda/lib/python3.10/site-packages (from rich->keras-core) (2.17.2)\r\n",
      "Requirement already satisfied: mdurl~=0.1 in /opt/conda/lib/python3.10/site-packages (from markdown-it-py>=2.2.0->rich->keras-core) (0.1.2)\r\n",
      "Downloading keras_core-0.1.7-py3-none-any.whl (950 kB)\r\n",
      "\u001b[2K   \u001b[90m━━━━━━━━━━━━━━━━━━━━━━━━━━━━━━━━━━━━━━━━\u001b[0m \u001b[32m950.8/950.8 kB\u001b[0m \u001b[31m13.1 MB/s\u001b[0m eta \u001b[36m0:00:00\u001b[0m\r\n",
      "\u001b[?25hInstalling collected packages: keras-core\r\n",
      "Successfully installed keras-core-0.1.7\r\n",
      "Requirement already satisfied: tensorflow-hub in /opt/conda/lib/python3.10/site-packages (0.16.1)\r\n",
      "Requirement already satisfied: numpy>=1.12.0 in /opt/conda/lib/python3.10/site-packages (from tensorflow-hub) (1.26.4)\r\n",
      "Requirement already satisfied: protobuf>=3.19.6 in /opt/conda/lib/python3.10/site-packages (from tensorflow-hub) (3.20.3)\r\n",
      "Requirement already satisfied: tf-keras>=2.14.1 in /opt/conda/lib/python3.10/site-packages (from tensorflow-hub) (2.16.0)\r\n",
      "Requirement already satisfied: tensorflow<2.17,>=2.16 in /opt/conda/lib/python3.10/site-packages (from tf-keras>=2.14.1->tensorflow-hub) (2.16.1)\r\n",
      "Requirement already satisfied: absl-py>=1.0.0 in /opt/conda/lib/python3.10/site-packages (from tensorflow<2.17,>=2.16->tf-keras>=2.14.1->tensorflow-hub) (1.4.0)\r\n",
      "Requirement already satisfied: astunparse>=1.6.0 in /opt/conda/lib/python3.10/site-packages (from tensorflow<2.17,>=2.16->tf-keras>=2.14.1->tensorflow-hub) (1.6.3)\r\n",
      "Requirement already satisfied: flatbuffers>=23.5.26 in /opt/conda/lib/python3.10/site-packages (from tensorflow<2.17,>=2.16->tf-keras>=2.14.1->tensorflow-hub) (23.5.26)\r\n",
      "Requirement already satisfied: gast!=0.5.0,!=0.5.1,!=0.5.2,>=0.2.1 in /opt/conda/lib/python3.10/site-packages (from tensorflow<2.17,>=2.16->tf-keras>=2.14.1->tensorflow-hub) (0.5.4)\r\n",
      "Requirement already satisfied: google-pasta>=0.1.1 in /opt/conda/lib/python3.10/site-packages (from tensorflow<2.17,>=2.16->tf-keras>=2.14.1->tensorflow-hub) (0.2.0)\r\n",
      "Requirement already satisfied: h5py>=3.10.0 in /opt/conda/lib/python3.10/site-packages (from tensorflow<2.17,>=2.16->tf-keras>=2.14.1->tensorflow-hub) (3.10.0)\r\n",
      "Requirement already satisfied: libclang>=13.0.0 in /opt/conda/lib/python3.10/site-packages (from tensorflow<2.17,>=2.16->tf-keras>=2.14.1->tensorflow-hub) (16.0.6)\r\n",
      "Requirement already satisfied: ml-dtypes~=0.3.1 in /opt/conda/lib/python3.10/site-packages (from tensorflow<2.17,>=2.16->tf-keras>=2.14.1->tensorflow-hub) (0.3.2)\r\n",
      "Requirement already satisfied: opt-einsum>=2.3.2 in /opt/conda/lib/python3.10/site-packages (from tensorflow<2.17,>=2.16->tf-keras>=2.14.1->tensorflow-hub) (3.3.0)\r\n",
      "Requirement already satisfied: packaging in /opt/conda/lib/python3.10/site-packages (from tensorflow<2.17,>=2.16->tf-keras>=2.14.1->tensorflow-hub) (21.3)\r\n",
      "Requirement already satisfied: requests<3,>=2.21.0 in /opt/conda/lib/python3.10/site-packages (from tensorflow<2.17,>=2.16->tf-keras>=2.14.1->tensorflow-hub) (2.31.0)\r\n",
      "Requirement already satisfied: setuptools in /opt/conda/lib/python3.10/site-packages (from tensorflow<2.17,>=2.16->tf-keras>=2.14.1->tensorflow-hub) (69.0.3)\r\n",
      "Requirement already satisfied: six>=1.12.0 in /opt/conda/lib/python3.10/site-packages (from tensorflow<2.17,>=2.16->tf-keras>=2.14.1->tensorflow-hub) (1.16.0)\r\n",
      "Requirement already satisfied: termcolor>=1.1.0 in /opt/conda/lib/python3.10/site-packages (from tensorflow<2.17,>=2.16->tf-keras>=2.14.1->tensorflow-hub) (2.4.0)\r\n",
      "Requirement already satisfied: typing-extensions>=3.6.6 in /opt/conda/lib/python3.10/site-packages (from tensorflow<2.17,>=2.16->tf-keras>=2.14.1->tensorflow-hub) (4.9.0)\r\n",
      "Requirement already satisfied: wrapt>=1.11.0 in /opt/conda/lib/python3.10/site-packages (from tensorflow<2.17,>=2.16->tf-keras>=2.14.1->tensorflow-hub) (1.14.1)\r\n",
      "Requirement already satisfied: grpcio<2.0,>=1.24.3 in /opt/conda/lib/python3.10/site-packages (from tensorflow<2.17,>=2.16->tf-keras>=2.14.1->tensorflow-hub) (1.51.1)\r\n",
      "Requirement already satisfied: tensorboard<2.17,>=2.16 in /opt/conda/lib/python3.10/site-packages (from tensorflow<2.17,>=2.16->tf-keras>=2.14.1->tensorflow-hub) (2.16.2)\r\n",
      "Requirement already satisfied: keras>=3.0.0 in /opt/conda/lib/python3.10/site-packages (from tensorflow<2.17,>=2.16->tf-keras>=2.14.1->tensorflow-hub) (3.1.1)\r\n",
      "Requirement already satisfied: tensorflow-io-gcs-filesystem>=0.23.1 in /opt/conda/lib/python3.10/site-packages (from tensorflow<2.17,>=2.16->tf-keras>=2.14.1->tensorflow-hub) (0.35.0)\r\n",
      "Requirement already satisfied: wheel<1.0,>=0.23.0 in /opt/conda/lib/python3.10/site-packages (from astunparse>=1.6.0->tensorflow<2.17,>=2.16->tf-keras>=2.14.1->tensorflow-hub) (0.42.0)\r\n",
      "Requirement already satisfied: rich in /opt/conda/lib/python3.10/site-packages (from keras>=3.0.0->tensorflow<2.17,>=2.16->tf-keras>=2.14.1->tensorflow-hub) (13.7.0)\r\n",
      "Requirement already satisfied: namex in /opt/conda/lib/python3.10/site-packages (from keras>=3.0.0->tensorflow<2.17,>=2.16->tf-keras>=2.14.1->tensorflow-hub) (0.0.7)\r\n",
      "Requirement already satisfied: optree in /opt/conda/lib/python3.10/site-packages (from keras>=3.0.0->tensorflow<2.17,>=2.16->tf-keras>=2.14.1->tensorflow-hub) (0.11.0)\r\n",
      "Requirement already satisfied: charset-normalizer<4,>=2 in /opt/conda/lib/python3.10/site-packages (from requests<3,>=2.21.0->tensorflow<2.17,>=2.16->tf-keras>=2.14.1->tensorflow-hub) (3.3.2)\r\n",
      "Requirement already satisfied: idna<4,>=2.5 in /opt/conda/lib/python3.10/site-packages (from requests<3,>=2.21.0->tensorflow<2.17,>=2.16->tf-keras>=2.14.1->tensorflow-hub) (3.6)\r\n",
      "Requirement already satisfied: urllib3<3,>=1.21.1 in /opt/conda/lib/python3.10/site-packages (from requests<3,>=2.21.0->tensorflow<2.17,>=2.16->tf-keras>=2.14.1->tensorflow-hub) (1.26.18)\r\n",
      "Requirement already satisfied: certifi>=2017.4.17 in /opt/conda/lib/python3.10/site-packages (from requests<3,>=2.21.0->tensorflow<2.17,>=2.16->tf-keras>=2.14.1->tensorflow-hub) (2024.2.2)\r\n",
      "Requirement already satisfied: markdown>=2.6.8 in /opt/conda/lib/python3.10/site-packages (from tensorboard<2.17,>=2.16->tensorflow<2.17,>=2.16->tf-keras>=2.14.1->tensorflow-hub) (3.5.2)\r\n",
      "Requirement already satisfied: tensorboard-data-server<0.8.0,>=0.7.0 in /opt/conda/lib/python3.10/site-packages (from tensorboard<2.17,>=2.16->tensorflow<2.17,>=2.16->tf-keras>=2.14.1->tensorflow-hub) (0.7.2)\r\n",
      "Requirement already satisfied: werkzeug>=1.0.1 in /opt/conda/lib/python3.10/site-packages (from tensorboard<2.17,>=2.16->tensorflow<2.17,>=2.16->tf-keras>=2.14.1->tensorflow-hub) (3.0.2)\r\n",
      "Requirement already satisfied: pyparsing!=3.0.5,>=2.0.2 in /opt/conda/lib/python3.10/site-packages (from packaging->tensorflow<2.17,>=2.16->tf-keras>=2.14.1->tensorflow-hub) (3.1.1)\r\n",
      "Requirement already satisfied: MarkupSafe>=2.1.1 in /opt/conda/lib/python3.10/site-packages (from werkzeug>=1.0.1->tensorboard<2.17,>=2.16->tensorflow<2.17,>=2.16->tf-keras>=2.14.1->tensorflow-hub) (2.1.3)\r\n",
      "Requirement already satisfied: markdown-it-py>=2.2.0 in /opt/conda/lib/python3.10/site-packages (from rich->keras>=3.0.0->tensorflow<2.17,>=2.16->tf-keras>=2.14.1->tensorflow-hub) (3.0.0)\r\n",
      "Requirement already satisfied: pygments<3.0.0,>=2.13.0 in /opt/conda/lib/python3.10/site-packages (from rich->keras>=3.0.0->tensorflow<2.17,>=2.16->tf-keras>=2.14.1->tensorflow-hub) (2.17.2)\r\n",
      "Requirement already satisfied: mdurl~=0.1 in /opt/conda/lib/python3.10/site-packages (from markdown-it-py>=2.2.0->rich->keras>=3.0.0->tensorflow<2.17,>=2.16->tf-keras>=2.14.1->tensorflow-hub) (0.1.2)\r\n"
     ]
    }
   ],
   "source": [
    "!pip install --upgrade pip\n",
    "!pip install keras\n",
    "!pip install --upgrade jupyter ipywidgets\n",
    "!pip install --upgrade tensorflow\n",
    "!pip install --upgrade tf-keras tensorflow-text\n",
    "!pip install keras-core\n",
    "!pip install --upgrade tensorflow-hub\n",
    "\n"
   ]
  },
  {
   "cell_type": "code",
   "execution_count": 2,
   "id": "75496fe3",
   "metadata": {
    "execution": {
     "iopub.execute_input": "2024-05-03T22:23:52.665879Z",
     "iopub.status.busy": "2024-05-03T22:23:52.664870Z",
     "iopub.status.idle": "2024-05-03T22:24:02.093434Z",
     "shell.execute_reply": "2024-05-03T22:24:02.092375Z"
    },
    "papermill": {
     "duration": 9.478874,
     "end_time": "2024-05-03T22:24:02.096276",
     "exception": false,
     "start_time": "2024-05-03T22:23:52.617402",
     "status": "completed"
    },
    "tags": []
   },
   "outputs": [],
   "source": [
    "import os\n",
    "os.environ['TF_USE_LEGACY_KERAS'] = '1'\n",
    "import re\n",
    "from datetime import datetime\n",
    "import numpy as np\n",
    "import pandas as pd\n",
    "import matplotlib.pyplot as plt\n",
    "\n",
    "from kaggle_datasets import KaggleDatasets\n",
    "\n",
    "import tensorflow as tf\n",
    "\n",
    "import tf_keras as keras\n",
    "\n",
    "from tensorflow.keras.applications.efficientnet import EfficientNetB0\n",
    "from tensorflow.keras.applications.efficientnet import preprocess_input as effnet_preprocess_input\n",
    "import tensorflow_datasets as tfds\n",
    "import tensorflow_hub as hub"
   ]
  },
  {
   "cell_type": "code",
   "execution_count": 3,
   "id": "efab8db6",
   "metadata": {
    "execution": {
     "iopub.execute_input": "2024-05-03T22:24:02.174227Z",
     "iopub.status.busy": "2024-05-03T22:24:02.173526Z",
     "iopub.status.idle": "2024-05-03T22:24:02.179362Z",
     "shell.execute_reply": "2024-05-03T22:24:02.178190Z"
    },
    "papermill": {
     "duration": 0.048436,
     "end_time": "2024-05-03T22:24:02.181642",
     "exception": false,
     "start_time": "2024-05-03T22:24:02.133206",
     "status": "completed"
    },
    "tags": []
   },
   "outputs": [],
   "source": [
    "from tensorflow.keras.applications.efficientnet import EfficientNetB0\n",
    "from tensorflow.keras.applications.efficientnet import preprocess_input as effnet_preprocess_input"
   ]
  },
  {
   "cell_type": "code",
   "execution_count": 4,
   "id": "d5ba3434",
   "metadata": {
    "execution": {
     "iopub.execute_input": "2024-05-03T22:24:02.257734Z",
     "iopub.status.busy": "2024-05-03T22:24:02.257334Z",
     "iopub.status.idle": "2024-05-03T22:24:02.262573Z",
     "shell.execute_reply": "2024-05-03T22:24:02.261430Z"
    },
    "papermill": {
     "duration": 0.045785,
     "end_time": "2024-05-03T22:24:02.265034",
     "exception": false,
     "start_time": "2024-05-03T22:24:02.219249",
     "status": "completed"
    },
    "tags": []
   },
   "outputs": [],
   "source": [
    "import tensorflow_datasets as tfds\n",
    "import tensorflow_hub as hub"
   ]
  },
  {
   "cell_type": "code",
   "execution_count": 5,
   "id": "9568108b",
   "metadata": {
    "execution": {
     "iopub.execute_input": "2024-05-03T22:24:02.343668Z",
     "iopub.status.busy": "2024-05-03T22:24:02.343131Z",
     "iopub.status.idle": "2024-05-03T22:24:02.350033Z",
     "shell.execute_reply": "2024-05-03T22:24:02.348800Z"
    },
    "papermill": {
     "duration": 0.05087,
     "end_time": "2024-05-03T22:24:02.352669",
     "exception": false,
     "start_time": "2024-05-03T22:24:02.301799",
     "status": "completed"
    },
    "tags": []
   },
   "outputs": [
    {
     "name": "stdout",
     "output_type": "stream",
     "text": [
      "1\n"
     ]
    }
   ],
   "source": [
    "print(os.getenv('TF_USE_LEGACY_KERAS'))"
   ]
  },
  {
   "cell_type": "code",
   "execution_count": 6,
   "id": "55cb52c9",
   "metadata": {
    "execution": {
     "iopub.execute_input": "2024-05-03T22:24:02.428312Z",
     "iopub.status.busy": "2024-05-03T22:24:02.427505Z",
     "iopub.status.idle": "2024-05-03T22:24:02.788368Z",
     "shell.execute_reply": "2024-05-03T22:24:02.787234Z"
    },
    "papermill": {
     "duration": 0.401484,
     "end_time": "2024-05-03T22:24:02.790905",
     "exception": false,
     "start_time": "2024-05-03T22:24:02.389421",
     "status": "completed"
    },
    "tags": []
   },
   "outputs": [],
   "source": [
    "# import tensorflow as tf\n",
    "\n",
    "# try:\n",
    "#   # Attempt TPU detection using `tf.distribute.cluster_resolver.TPUClusterResolver`\n",
    "#   tpu = tf.distribute.cluster_resolver.TPUClusterResolver(tpu='local')\n",
    "#   print('Running on TPU:', tpu.cluster_spec().as_dict().get('worker', 'CPU/GPU') if tpu else 'CPU/GPU')\n",
    "\n",
    "# except ValueError:\n",
    "#   # Handle the case where no TPU is found\n",
    "#   print('ERROR: Not connected to a TPU runtime!')\n",
    "#   raise BaseException('No TPU detected. Consider using CPU or GPU for training.')  # More informative error message\n",
    "\n",
    "# # Regardless of TPU availability, configure the strategy\n",
    "strategy = tf.distribute.experimental.CentralStorageStrategy()  # Efficient strategy for most cases"
   ]
  },
  {
   "cell_type": "code",
   "execution_count": 7,
   "id": "d3bfa704",
   "metadata": {
    "execution": {
     "iopub.execute_input": "2024-05-03T22:24:02.870495Z",
     "iopub.status.busy": "2024-05-03T22:24:02.869697Z",
     "iopub.status.idle": "2024-05-03T22:24:02.874352Z",
     "shell.execute_reply": "2024-05-03T22:24:02.873360Z"
    },
    "papermill": {
     "duration": 0.045404,
     "end_time": "2024-05-03T22:24:02.876702",
     "exception": false,
     "start_time": "2024-05-03T22:24:02.831298",
     "status": "completed"
    },
    "tags": []
   },
   "outputs": [],
   "source": [
    "# Directly use the Kaggle dataset path without get_gcs_path\n",
    "GCS_PATH = '/kaggle/input/cassava-leaf-disease-classification'"
   ]
  },
  {
   "cell_type": "code",
   "execution_count": 8,
   "id": "7656d304",
   "metadata": {
    "execution": {
     "iopub.execute_input": "2024-05-03T22:24:02.952463Z",
     "iopub.status.busy": "2024-05-03T22:24:02.951589Z",
     "iopub.status.idle": "2024-05-03T22:24:02.970307Z",
     "shell.execute_reply": "2024-05-03T22:24:02.969212Z"
    },
    "papermill": {
     "duration": 0.059121,
     "end_time": "2024-05-03T22:24:02.972680",
     "exception": false,
     "start_time": "2024-05-03T22:24:02.913559",
     "status": "completed"
    },
    "tags": []
   },
   "outputs": [
    {
     "data": {
      "text/plain": [
       "16"
      ]
     },
     "execution_count": 8,
     "metadata": {},
     "output_type": "execute_result"
    }
   ],
   "source": [
    "tfrec_fnames = tf.io.gfile.glob(GCS_PATH + '/train_tfrecords/ld_train*.tfrec')\n",
    "len(tfrec_fnames)"
   ]
  },
  {
   "cell_type": "code",
   "execution_count": 9,
   "id": "ca77cc14",
   "metadata": {
    "execution": {
     "iopub.execute_input": "2024-05-03T22:24:03.048806Z",
     "iopub.status.busy": "2024-05-03T22:24:03.047857Z",
     "iopub.status.idle": "2024-05-03T22:24:03.070568Z",
     "shell.execute_reply": "2024-05-03T22:24:03.069649Z"
    },
    "papermill": {
     "duration": 0.0637,
     "end_time": "2024-05-03T22:24:03.073341",
     "exception": false,
     "start_time": "2024-05-03T22:24:03.009641",
     "status": "completed"
    },
    "tags": []
   },
   "outputs": [],
   "source": [
    "label_to_disease = pd.read_json(os.path.join(GCS_PATH, 'label_num_to_disease_map.json'), typ='series')"
   ]
  },
  {
   "cell_type": "code",
   "execution_count": 10,
   "id": "9467d7e3",
   "metadata": {
    "execution": {
     "iopub.execute_input": "2024-05-03T22:24:03.150953Z",
     "iopub.status.busy": "2024-05-03T22:24:03.150119Z",
     "iopub.status.idle": "2024-05-03T22:24:03.200784Z",
     "shell.execute_reply": "2024-05-03T22:24:03.199816Z"
    },
    "papermill": {
     "duration": 0.091818,
     "end_time": "2024-05-03T22:24:03.203371",
     "exception": false,
     "start_time": "2024-05-03T22:24:03.111553",
     "status": "completed"
    },
    "tags": []
   },
   "outputs": [],
   "source": [
    "train_csv = pd.read_csv(os.path.join(GCS_PATH, 'train.csv'))"
   ]
  },
  {
   "cell_type": "code",
   "execution_count": 11,
   "id": "1651e6db",
   "metadata": {
    "execution": {
     "iopub.execute_input": "2024-05-03T22:24:03.279072Z",
     "iopub.status.busy": "2024-05-03T22:24:03.278659Z",
     "iopub.status.idle": "2024-05-03T22:24:03.303794Z",
     "shell.execute_reply": "2024-05-03T22:24:03.302707Z"
    },
    "papermill": {
     "duration": 0.066109,
     "end_time": "2024-05-03T22:24:03.306529",
     "exception": false,
     "start_time": "2024-05-03T22:24:03.240420",
     "status": "completed"
    },
    "tags": []
   },
   "outputs": [
    {
     "data": {
      "text/html": [
       "<div>\n",
       "<style scoped>\n",
       "    .dataframe tbody tr th:only-of-type {\n",
       "        vertical-align: middle;\n",
       "    }\n",
       "\n",
       "    .dataframe tbody tr th {\n",
       "        vertical-align: top;\n",
       "    }\n",
       "\n",
       "    .dataframe thead th {\n",
       "        text-align: right;\n",
       "    }\n",
       "</style>\n",
       "<table border=\"1\" class=\"dataframe\">\n",
       "  <thead>\n",
       "    <tr style=\"text-align: right;\">\n",
       "      <th></th>\n",
       "      <th>image_id</th>\n",
       "      <th>label</th>\n",
       "      <th>disease</th>\n",
       "    </tr>\n",
       "  </thead>\n",
       "  <tbody>\n",
       "    <tr>\n",
       "      <th>0</th>\n",
       "      <td>1000015157.jpg</td>\n",
       "      <td>0</td>\n",
       "      <td>Cassava Bacterial Blight (CBB)</td>\n",
       "    </tr>\n",
       "    <tr>\n",
       "      <th>1</th>\n",
       "      <td>1000201771.jpg</td>\n",
       "      <td>3</td>\n",
       "      <td>Cassava Mosaic Disease (CMD)</td>\n",
       "    </tr>\n",
       "    <tr>\n",
       "      <th>2</th>\n",
       "      <td>100042118.jpg</td>\n",
       "      <td>1</td>\n",
       "      <td>Cassava Brown Streak Disease (CBSD)</td>\n",
       "    </tr>\n",
       "    <tr>\n",
       "      <th>3</th>\n",
       "      <td>1000723321.jpg</td>\n",
       "      <td>1</td>\n",
       "      <td>Cassava Brown Streak Disease (CBSD)</td>\n",
       "    </tr>\n",
       "    <tr>\n",
       "      <th>4</th>\n",
       "      <td>1000812911.jpg</td>\n",
       "      <td>3</td>\n",
       "      <td>Cassava Mosaic Disease (CMD)</td>\n",
       "    </tr>\n",
       "  </tbody>\n",
       "</table>\n",
       "</div>"
      ],
      "text/plain": [
       "         image_id  label                              disease\n",
       "0  1000015157.jpg      0       Cassava Bacterial Blight (CBB)\n",
       "1  1000201771.jpg      3         Cassava Mosaic Disease (CMD)\n",
       "2   100042118.jpg      1  Cassava Brown Streak Disease (CBSD)\n",
       "3  1000723321.jpg      1  Cassava Brown Streak Disease (CBSD)\n",
       "4  1000812911.jpg      3         Cassava Mosaic Disease (CMD)"
      ]
     },
     "execution_count": 11,
     "metadata": {},
     "output_type": "execute_result"
    }
   ],
   "source": [
    "train_csv['disease'] = train_csv['label'].map(label_to_disease)\n",
    "train_csv.head()"
   ]
  },
  {
   "cell_type": "code",
   "execution_count": 12,
   "id": "0b05ed1c",
   "metadata": {
    "execution": {
     "iopub.execute_input": "2024-05-03T22:24:03.387308Z",
     "iopub.status.busy": "2024-05-03T22:24:03.386784Z",
     "iopub.status.idle": "2024-05-03T22:24:03.393202Z",
     "shell.execute_reply": "2024-05-03T22:24:03.391958Z"
    },
    "papermill": {
     "duration": 0.04917,
     "end_time": "2024-05-03T22:24:03.396142",
     "exception": false,
     "start_time": "2024-05-03T22:24:03.346972",
     "status": "completed"
    },
    "tags": []
   },
   "outputs": [
    {
     "name": "stdout",
     "output_type": "stream",
     "text": [
      "12 4\n"
     ]
    }
   ],
   "source": [
    "# 75:25 train:valid\n",
    "train_fnames = tfrec_fnames[:12]\n",
    "valid_fnames = tfrec_fnames[12:]\n",
    "print(len(train_fnames), len(valid_fnames))"
   ]
  },
  {
   "cell_type": "code",
   "execution_count": 13,
   "id": "43e9146c",
   "metadata": {
    "execution": {
     "iopub.execute_input": "2024-05-03T22:24:03.472871Z",
     "iopub.status.busy": "2024-05-03T22:24:03.471942Z",
     "iopub.status.idle": "2024-05-03T22:24:03.478676Z",
     "shell.execute_reply": "2024-05-03T22:24:03.477542Z"
    },
    "papermill": {
     "duration": 0.047659,
     "end_time": "2024-05-03T22:24:03.481106",
     "exception": false,
     "start_time": "2024-05-03T22:24:03.433447",
     "status": "completed"
    },
    "tags": []
   },
   "outputs": [],
   "source": [
    "early_stop = keras.callbacks.EarlyStopping(monitor = 'val_loss', min_delta = 0.001, \n",
    "                                              patience = 5, mode = 'min', verbose = 1,\n",
    "                                              restore_best_weights = True)\n",
    "\n",
    "reduce_lr = keras.callbacks.ReduceLROnPlateau(monitor = 'val_loss', factor = 0.3, \n",
    "                                                 patience = 2, min_delta = 0.001, \n",
    "                                                 mode = 'min', verbose = 1)"
   ]
  },
  {
   "cell_type": "code",
   "execution_count": 14,
   "id": "7885bdcc",
   "metadata": {
    "execution": {
     "iopub.execute_input": "2024-05-03T22:24:03.558461Z",
     "iopub.status.busy": "2024-05-03T22:24:03.557997Z",
     "iopub.status.idle": "2024-05-03T22:24:03.564240Z",
     "shell.execute_reply": "2024-05-03T22:24:03.563187Z"
    },
    "papermill": {
     "duration": 0.047581,
     "end_time": "2024-05-03T22:24:03.566799",
     "exception": false,
     "start_time": "2024-05-03T22:24:03.519218",
     "status": "completed"
    },
    "tags": []
   },
   "outputs": [
    {
     "name": "stdout",
     "output_type": "stream",
     "text": [
      "1\n"
     ]
    }
   ],
   "source": [
    "AUTO = tf.data.experimental.AUTOTUNE\n",
    "BATCH_SIZE = 32\n",
    "IMAGE_SIZE = [512, 512]\n",
    "print(strategy.num_replicas_in_sync)"
   ]
  },
  {
   "cell_type": "code",
   "execution_count": 15,
   "id": "d6e6ffbf",
   "metadata": {
    "execution": {
     "iopub.execute_input": "2024-05-03T22:24:03.644647Z",
     "iopub.status.busy": "2024-05-03T22:24:03.643680Z",
     "iopub.status.idle": "2024-05-03T22:24:03.652161Z",
     "shell.execute_reply": "2024-05-03T22:24:03.651097Z"
    },
    "papermill": {
     "duration": 0.049653,
     "end_time": "2024-05-03T22:24:03.654503",
     "exception": false,
     "start_time": "2024-05-03T22:24:03.604850",
     "status": "completed"
    },
    "tags": []
   },
   "outputs": [],
   "source": [
    "def _parse_function(proto):\n",
    "    # feature_description needs to be defined since datasets use graph-execution\n",
    "    # - its used to build their shape and type signature\n",
    "    feature_description = {\n",
    "        'image': tf.io.FixedLenFeature([], tf.string, default_value=''),\n",
    "        'image_name': tf.io.FixedLenFeature([], tf.string, default_value=''),\n",
    "        'target': tf.io.FixedLenFeature([], tf.int64, default_value=-1)\n",
    "    }\n",
    "\n",
    "    parsed_features = tf.io.parse_single_example(proto, feature_description)\n",
    "    image = tf.image.decode_jpeg(parsed_features['image'], channels=3)\n",
    "    image = tf.cast(image, tf.float32) # :: [0.0, 255.0]\n",
    "    image = tf.reshape(image, [*IMAGE_SIZE, 3])\n",
    "    target = tf.one_hot(parsed_features['target'], depth=5)\n",
    "    return image, target"
   ]
  },
  {
   "cell_type": "code",
   "execution_count": 16,
   "id": "eba43db6",
   "metadata": {
    "execution": {
     "iopub.execute_input": "2024-05-03T22:24:03.731834Z",
     "iopub.status.busy": "2024-05-03T22:24:03.731449Z",
     "iopub.status.idle": "2024-05-03T22:24:03.737117Z",
     "shell.execute_reply": "2024-05-03T22:24:03.736075Z"
    },
    "papermill": {
     "duration": 0.046945,
     "end_time": "2024-05-03T22:24:03.739343",
     "exception": false,
     "start_time": "2024-05-03T22:24:03.692398",
     "status": "completed"
    },
    "tags": []
   },
   "outputs": [],
   "source": [
    "def load_dataset(tfrecords_fnames):\n",
    "    raw_ds = tf.data.TFRecordDataset(tfrecords_fnames, num_parallel_reads=AUTO)\n",
    "    parsed_ds = raw_ds.map(_parse_function, num_parallel_calls=AUTO)\n",
    "    return parsed_ds"
   ]
  },
  {
   "cell_type": "code",
   "execution_count": 17,
   "id": "cb003127",
   "metadata": {
    "execution": {
     "iopub.execute_input": "2024-05-03T22:24:03.880554Z",
     "iopub.status.busy": "2024-05-03T22:24:03.880133Z",
     "iopub.status.idle": "2024-05-03T22:24:03.888508Z",
     "shell.execute_reply": "2024-05-03T22:24:03.887214Z"
    },
    "papermill": {
     "duration": 0.114082,
     "end_time": "2024-05-03T22:24:03.890856",
     "exception": false,
     "start_time": "2024-05-03T22:24:03.776774",
     "status": "completed"
    },
    "tags": []
   },
   "outputs": [],
   "source": [
    "def build_train_ds(train_fnames, with_aug=False):\n",
    "    ds = load_dataset(train_fnames)\n",
    "\n",
    "    def data_augment(image, target):\n",
    "        modified = tf.image.random_flip_left_right(image)\n",
    "        modified = tf.image.random_flip_up_down(image)\n",
    "        #modified = tf.image.random_brightness(modified, 0.2)\n",
    "        #modified = tf.image.random_contrast(modified, 0.2, 0.5)\n",
    "        #modified = tf.image.random_hue(modified, 0.2)\n",
    "        #modified = tf.image.random_saturation(modified, 5, 10)\n",
    "        modified = tf.clip_by_value(modified, 0.0, 255.0)\n",
    "        return modified, target\n",
    "\n",
    "    if with_aug:\n",
    "        ds = ds.map(data_augment, num_parallel_calls=AUTO)\n",
    "\n",
    "    return ds.repeat().shuffle(2048).batch(BATCH_SIZE, drop_remainder=True).prefetch(AUTO)"
   ]
  },
  {
   "cell_type": "code",
   "execution_count": 18,
   "id": "24967ffe",
   "metadata": {
    "execution": {
     "iopub.execute_input": "2024-05-03T22:24:03.969058Z",
     "iopub.status.busy": "2024-05-03T22:24:03.967990Z",
     "iopub.status.idle": "2024-05-03T22:24:03.973706Z",
     "shell.execute_reply": "2024-05-03T22:24:03.972670Z"
    },
    "papermill": {
     "duration": 0.047588,
     "end_time": "2024-05-03T22:24:03.976116",
     "exception": false,
     "start_time": "2024-05-03T22:24:03.928528",
     "status": "completed"
    },
    "tags": []
   },
   "outputs": [],
   "source": [
    "def build_valid_ds(valid_fnames):\n",
    "    ds = load_dataset(valid_fnames)\n",
    "    ds = ds.batch(BATCH_SIZE, drop_remainder=True).prefetch(AUTO)\n",
    "    return ds"
   ]
  },
  {
   "cell_type": "code",
   "execution_count": 19,
   "id": "5bc4d698",
   "metadata": {
    "execution": {
     "iopub.execute_input": "2024-05-03T22:24:04.052776Z",
     "iopub.status.busy": "2024-05-03T22:24:04.052354Z",
     "iopub.status.idle": "2024-05-03T22:24:04.062277Z",
     "shell.execute_reply": "2024-05-03T22:24:04.061259Z"
    },
    "papermill": {
     "duration": 0.050858,
     "end_time": "2024-05-03T22:24:04.064609",
     "exception": false,
     "start_time": "2024-05-03T22:24:04.013751",
     "status": "completed"
    },
    "tags": []
   },
   "outputs": [
    {
     "name": "stdout",
     "output_type": "stream",
     "text": [
      "TRAINING IMAGES: 16045 , STEPS PER EPOCH: 501\n",
      "VALIDATION IMAGES: 5352\n"
     ]
    }
   ],
   "source": [
    "def count_data_items(filenames):\n",
    "    n = [int(re.compile(r\"-([0-9]*)\\.\").search(fname).group(1)) for fname in filenames]\n",
    "    return np.sum(n)\n",
    "\n",
    "n_train = count_data_items(train_fnames)\n",
    "n_valid = count_data_items(valid_fnames)\n",
    "train_steps = count_data_items(train_fnames) // BATCH_SIZE\n",
    "print(\"TRAINING IMAGES:\", n_train, \", STEPS PER EPOCH:\", train_steps)\n",
    "print(\"VALIDATION IMAGES:\", n_valid)"
   ]
  },
  {
   "cell_type": "code",
   "execution_count": 20,
   "id": "72dfb740",
   "metadata": {
    "execution": {
     "iopub.execute_input": "2024-05-03T22:24:04.141167Z",
     "iopub.status.busy": "2024-05-03T22:24:04.140710Z",
     "iopub.status.idle": "2024-05-03T22:24:04.146683Z",
     "shell.execute_reply": "2024-05-03T22:24:04.145643Z"
    },
    "papermill": {
     "duration": 0.046635,
     "end_time": "2024-05-03T22:24:04.148853",
     "exception": false,
     "start_time": "2024-05-03T22:24:04.102218",
     "status": "completed"
    },
    "tags": []
   },
   "outputs": [],
   "source": [
    "def preprocess_fn(image, label):\n",
    "    image = image / 255.0\n",
    "    image = tf.image.resize(image, (224, 224))\n",
    "    label = tf.concat([label, [0]], axis=0)\n",
    "    return image, label"
   ]
  },
  {
   "cell_type": "code",
   "execution_count": 21,
   "id": "4c0b214d",
   "metadata": {
    "execution": {
     "iopub.execute_input": "2024-05-03T22:24:04.225964Z",
     "iopub.status.busy": "2024-05-03T22:24:04.225513Z",
     "iopub.status.idle": "2024-05-03T22:24:04.926782Z",
     "shell.execute_reply": "2024-05-03T22:24:04.925750Z"
    },
    "papermill": {
     "duration": 0.743062,
     "end_time": "2024-05-03T22:24:04.929556",
     "exception": false,
     "start_time": "2024-05-03T22:24:04.186494",
     "status": "completed"
    },
    "tags": []
   },
   "outputs": [],
   "source": [
    "train_fnames = tfrec_fnames[:12]\n",
    "valid_fnames = tfrec_fnames[12:]\n",
    "\n",
    "train_ds = load_dataset(train_fnames)\n",
    "train_ds = train_ds.map(preprocess_fn, num_parallel_calls=AUTO)\n",
    "train_ds = train_ds.repeat().shuffle(2048).batch(BATCH_SIZE, drop_remainder=True).prefetch(AUTO)\n",
    "\n",
    "valid_ds = load_dataset(valid_fnames)\n",
    "valid_ds = valid_ds.map(preprocess_fn, num_parallel_calls=AUTO)\n",
    "valid_ds = valid_ds.batch(BATCH_SIZE, drop_remainder=True).prefetch(AUTO)\n",
    "\n",
    "train_steps = count_data_items(train_fnames) // BATCH_SIZE"
   ]
  },
  {
   "cell_type": "code",
   "execution_count": 22,
   "id": "c0bb631c",
   "metadata": {
    "execution": {
     "iopub.execute_input": "2024-05-03T22:24:05.008640Z",
     "iopub.status.busy": "2024-05-03T22:24:05.008201Z",
     "iopub.status.idle": "2024-05-03T22:24:10.154386Z",
     "shell.execute_reply": "2024-05-03T22:24:10.152953Z"
    },
    "papermill": {
     "duration": 5.189156,
     "end_time": "2024-05-03T22:24:10.156970",
     "exception": false,
     "start_time": "2024-05-03T22:24:04.967814",
     "status": "completed"
    },
    "tags": []
   },
   "outputs": [
    {
     "name": "stdout",
     "output_type": "stream",
     "text": [
      "1.0 (32, 224, 224, 3) <dtype: 'float32'>\n"
     ]
    }
   ],
   "source": [
    "img, label = next(iter(train_ds))\n",
    "print(img.numpy().max(), img.shape, img.dtype)"
   ]
  },
  {
   "cell_type": "code",
   "execution_count": 23,
   "id": "384100aa",
   "metadata": {
    "execution": {
     "iopub.execute_input": "2024-05-03T22:24:10.235081Z",
     "iopub.status.busy": "2024-05-03T22:24:10.234594Z",
     "iopub.status.idle": "2024-05-03T22:24:15.546297Z",
     "shell.execute_reply": "2024-05-03T22:24:15.545060Z"
    },
    "papermill": {
     "duration": 5.353993,
     "end_time": "2024-05-03T22:24:15.549110",
     "exception": false,
     "start_time": "2024-05-03T22:24:10.195117",
     "status": "completed"
    },
    "tags": []
   },
   "outputs": [],
   "source": [
    "os.environ[\"TFHUB_CACHE_DIR\"] = \"/kaggle/working\"\n",
    "with strategy.scope():\n",
    "    load_locally = tf.saved_model.LoadOptions(experimental_io_device='/job:localhost')\n",
    "    cassava = hub.KerasLayer('https://tfhub.dev/google/cropnet/classifier/cassava_disease_V1/2', trainable=True, load_options=load_locally)\n",
    "    model = keras.Sequential([keras.Input(shape=(224,224,3)),\n",
    "                                 cassava])\n",
    "        "
   ]
  },
  {
   "cell_type": "code",
   "execution_count": 24,
   "id": "daca6b49",
   "metadata": {
    "execution": {
     "iopub.execute_input": "2024-05-03T22:24:15.628430Z",
     "iopub.status.busy": "2024-05-03T22:24:15.627967Z",
     "iopub.status.idle": "2024-05-03T22:24:15.633195Z",
     "shell.execute_reply": "2024-05-03T22:24:15.632046Z"
    },
    "papermill": {
     "duration": 0.047863,
     "end_time": "2024-05-03T22:24:15.635636",
     "exception": false,
     "start_time": "2024-05-03T22:24:15.587773",
     "status": "completed"
    },
    "tags": []
   },
   "outputs": [],
   "source": [
    "#model.load_weights(\"/kaggle/working/preTrainedCropnet.keras\")"
   ]
  },
  {
   "cell_type": "code",
   "execution_count": 25,
   "id": "099278b5",
   "metadata": {
    "execution": {
     "iopub.execute_input": "2024-05-03T22:24:15.714258Z",
     "iopub.status.busy": "2024-05-03T22:24:15.713453Z",
     "iopub.status.idle": "2024-05-03T22:24:15.747258Z",
     "shell.execute_reply": "2024-05-03T22:24:15.746049Z"
    },
    "papermill": {
     "duration": 0.075973,
     "end_time": "2024-05-03T22:24:15.749891",
     "exception": false,
     "start_time": "2024-05-03T22:24:15.673918",
     "status": "completed"
    },
    "tags": []
   },
   "outputs": [],
   "source": [
    "model.compile(optimizer=keras.optimizers.Adam(learning_rate=1e-5),\n",
    "              loss=keras.losses.CategoricalCrossentropy(from_logits=False),\n",
    "              metrics=['accuracy'])"
   ]
  },
  {
   "cell_type": "code",
   "execution_count": 26,
   "id": "2f43ae30",
   "metadata": {
    "execution": {
     "iopub.execute_input": "2024-05-03T22:24:15.828337Z",
     "iopub.status.busy": "2024-05-03T22:24:15.827431Z",
     "iopub.status.idle": "2024-05-03T22:36:40.879271Z",
     "shell.execute_reply": "2024-05-03T22:36:40.878062Z"
    },
    "papermill": {
     "duration": 745.09376,
     "end_time": "2024-05-03T22:36:40.881686",
     "exception": false,
     "start_time": "2024-05-03T22:24:15.787926",
     "status": "completed"
    },
    "tags": []
   },
   "outputs": [
    {
     "name": "stdout",
     "output_type": "stream",
     "text": [
      "Epoch 1/500\n"
     ]
    },
    {
     "name": "stderr",
     "output_type": "stream",
     "text": [
      "WARNING: All log messages before absl::InitializeLog() is called are written to STDERR\n",
      "I0000 00:00:1714775110.857484     106 service.cc:145] XLA service 0x7fdd0a518220 initialized for platform CUDA (this does not guarantee that XLA will be used). Devices:\n",
      "I0000 00:00:1714775110.857542     106 service.cc:153]   StreamExecutor device (0): Tesla P100-PCIE-16GB, Compute Capability 6.0\n",
      "I0000 00:00:1714775111.004503     106 device_compiler.h:188] Compiled cluster using XLA!  This line is logged at most once for the lifetime of the process.\n"
     ]
    },
    {
     "name": "stdout",
     "output_type": "stream",
     "text": [
      "501/501 [==============================] - 126s 114ms/step - loss: 2.1299 - accuracy: 0.7294 - val_loss: 0.4883 - val_accuracy: 0.8767 - lr: 1.0000e-05\n",
      "Epoch 2/500\n",
      "501/501 [==============================] - 52s 104ms/step - loss: 0.4593 - accuracy: 0.8633 - val_loss: 0.3422 - val_accuracy: 0.8911 - lr: 1.0000e-05\n",
      "Epoch 3/500\n",
      "501/501 [==============================] - 52s 104ms/step - loss: 0.3726 - accuracy: 0.8804 - val_loss: 0.3275 - val_accuracy: 0.8913 - lr: 1.0000e-05\n",
      "Epoch 4/500\n",
      "501/501 [==============================] - 51s 102ms/step - loss: 0.3416 - accuracy: 0.8868 - val_loss: 0.3098 - val_accuracy: 0.8971 - lr: 1.0000e-05\n",
      "Epoch 5/500\n",
      "501/501 [==============================] - 52s 103ms/step - loss: 0.3099 - accuracy: 0.8973 - val_loss: 0.2983 - val_accuracy: 0.8999 - lr: 1.0000e-05\n",
      "Epoch 6/500\n",
      "501/501 [==============================] - 52s 104ms/step - loss: 0.2978 - accuracy: 0.8981 - val_loss: 0.2896 - val_accuracy: 0.8999 - lr: 1.0000e-05\n",
      "Epoch 7/500\n",
      "501/501 [==============================] - 51s 102ms/step - loss: 0.2798 - accuracy: 0.9029 - val_loss: 0.2887 - val_accuracy: 0.9019 - lr: 1.0000e-05\n",
      "Epoch 8/500\n",
      "501/501 [==============================] - 52s 103ms/step - loss: 0.2605 - accuracy: 0.9070 - val_loss: 0.2866 - val_accuracy: 0.9031 - lr: 1.0000e-05\n",
      "Epoch 9/500\n",
      "501/501 [==============================] - 51s 102ms/step - loss: 0.2521 - accuracy: 0.9116 - val_loss: 0.2860 - val_accuracy: 0.9040 - lr: 1.0000e-05\n",
      "Epoch 10/500\n",
      "501/501 [==============================] - ETA: 0s - loss: 0.2312 - accuracy: 0.9190\n",
      "Epoch 10: ReduceLROnPlateau reducing learning rate to 2.9999999242136253e-06.\n",
      "501/501 [==============================] - 52s 103ms/step - loss: 0.2312 - accuracy: 0.9190 - val_loss: 0.2885 - val_accuracy: 0.9036 - lr: 1.0000e-05\n",
      "Epoch 11/500\n",
      "501/501 [==============================] - 52s 103ms/step - loss: 0.2132 - accuracy: 0.9255 - val_loss: 0.2889 - val_accuracy: 0.9029 - lr: 3.0000e-06\n",
      "Epoch 12/500\n",
      "501/501 [==============================] - ETA: 0s - loss: 0.2125 - accuracy: 0.9238\n",
      "Epoch 12: ReduceLROnPlateau reducing learning rate to 8.999999636216671e-07.\n",
      "501/501 [==============================] - 52s 103ms/step - loss: 0.2125 - accuracy: 0.9238 - val_loss: 0.2886 - val_accuracy: 0.9042 - lr: 3.0000e-06\n",
      "Epoch 13/500\n",
      "501/501 [==============================] - 52s 103ms/step - loss: 0.2025 - accuracy: 0.9285 - val_loss: 0.2901 - val_accuracy: 0.9027 - lr: 9.0000e-07\n",
      "Epoch 13: early stopping\n",
      "Restoring model weights from the end of the best epoch: 8.\n"
     ]
    },
    {
     "data": {
      "text/plain": [
       "<tf_keras.src.callbacks.History at 0x7fe2099e6500>"
      ]
     },
     "execution_count": 26,
     "metadata": {},
     "output_type": "execute_result"
    }
   ],
   "source": [
    "model.fit(train_ds, validation_data=valid_ds,\n",
    "          epochs=500, steps_per_epoch=train_steps,\n",
    "          callbacks=[reduce_lr, early_stop])"
   ]
  },
  {
   "cell_type": "code",
   "execution_count": 27,
   "id": "37314ee6",
   "metadata": {
    "execution": {
     "iopub.execute_input": "2024-05-03T22:36:42.266065Z",
     "iopub.status.busy": "2024-05-03T22:36:42.265599Z",
     "iopub.status.idle": "2024-05-03T22:36:42.814753Z",
     "shell.execute_reply": "2024-05-03T22:36:42.813584Z"
    },
    "papermill": {
     "duration": 1.208133,
     "end_time": "2024-05-03T22:36:42.817517",
     "exception": false,
     "start_time": "2024-05-03T22:36:41.609384",
     "status": "completed"
    },
    "tags": []
   },
   "outputs": [],
   "source": [
    "model.save(\"preTrainedCropnet5.keras\")"
   ]
  },
  {
   "cell_type": "code",
   "execution_count": 28,
   "id": "8cdd0213",
   "metadata": {
    "execution": {
     "iopub.execute_input": "2024-05-03T22:36:44.119982Z",
     "iopub.status.busy": "2024-05-03T22:36:44.119115Z",
     "iopub.status.idle": "2024-05-03T22:36:44.149091Z",
     "shell.execute_reply": "2024-05-03T22:36:44.148000Z"
    },
    "papermill": {
     "duration": 0.685563,
     "end_time": "2024-05-03T22:36:44.151449",
     "exception": false,
     "start_time": "2024-05-03T22:36:43.465886",
     "status": "completed"
    },
    "tags": []
   },
   "outputs": [
    {
     "name": "stdout",
     "output_type": "stream",
     "text": [
      "Model: \"sequential\"\n",
      "_________________________________________________________________\n",
      " Layer (type)                Output Shape              Param #   \n",
      "=================================================================\n",
      " keras_layer (KerasLayer)    (None, 6)                 4234118   \n",
      "                                                                 \n",
      "=================================================================\n",
      "Total params: 4234118 (16.15 MB)\n",
      "Trainable params: 4209718 (16.06 MB)\n",
      "Non-trainable params: 24400 (95.31 KB)\n",
      "_________________________________________________________________\n"
     ]
    }
   ],
   "source": [
    "model.summary()"
   ]
  }
 ],
 "metadata": {
  "kaggle": {
   "accelerator": "gpu",
   "dataSources": [
    {
     "databundleVersionId": 1718836,
     "sourceId": 13836,
     "sourceType": "competition"
    },
    {
     "modelInstanceId": 645,
     "sourceId": 778,
     "sourceType": "modelInstanceVersion"
    }
   ],
   "dockerImageVersionId": 30684,
   "isGpuEnabled": true,
   "isInternetEnabled": true,
   "language": "python",
   "sourceType": "notebook"
  },
  "kernelspec": {
   "display_name": "Python 3",
   "language": "python",
   "name": "python3"
  },
  "language_info": {
   "codemirror_mode": {
    "name": "ipython",
    "version": 3
   },
   "file_extension": ".py",
   "mimetype": "text/x-python",
   "name": "python",
   "nbconvert_exporter": "python",
   "pygments_lexer": "ipython3",
   "version": "3.10.13"
  },
  "papermill": {
   "default_parameters": {},
   "duration": 968.23903,
   "end_time": "2024-05-03T22:36:48.173848",
   "environment_variables": {},
   "exception": null,
   "input_path": "__notebook__.ipynb",
   "output_path": "__notebook__.ipynb",
   "parameters": {},
   "start_time": "2024-05-03T22:20:39.934818",
   "version": "2.5.0"
  }
 },
 "nbformat": 4,
 "nbformat_minor": 5
}
